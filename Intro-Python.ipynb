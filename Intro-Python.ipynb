{
 "cells": [
  {
   "cell_type": "markdown",
   "id": "23a4bb75",
   "metadata": {},
   "source": [
    "# Introduction To Coding: Python"
   ]
  },
  {
   "cell_type": "markdown",
   "id": "d8a797c3",
   "metadata": {},
   "source": [
    "Welcome! This is an introduction to coding and review for those who are more experienced. This will be a quick session, so do not hesitate to clarify anything!"
   ]
  },
  {
   "cell_type": "markdown",
   "id": "c9595623",
   "metadata": {},
   "source": [
    "### Hello World!"
   ]
  },
  {
   "cell_type": "markdown",
   "id": "93f4efe1",
   "metadata": {},
   "source": [
    "In Python, printing messages to the console is super easy! All you need to do is put everything inside a print() function. Like this:"
   ]
  },
  {
   "cell_type": "code",
   "execution_count": 10,
   "id": "1c3cd340",
   "metadata": {},
   "outputs": [
    {
     "name": "stdout",
     "output_type": "stream",
     "text": [
      "Hello World!\n"
     ]
    }
   ],
   "source": [
    "print(\"Hello World!\")"
   ]
  },
  {
   "cell_type": "markdown",
   "id": "a221981e",
   "metadata": {},
   "source": [
    "### Data Types"
   ]
  },
  {
   "cell_type": "markdown",
   "id": "8ac25341",
   "metadata": {},
   "source": [
    "Python, and most other languages, have primitive data types. This means that they are built-in data types and are absolute. Along your programming journey, you will discover packages and classes that have been built by other people. You will use them, and although they are a data type, they are not primitive.\n",
    "\n",
    "\n",
    "The following are need-to-know primitive data types:\n",
    "\n",
    "- String (str) - Text: \"Hello World!\"\n",
    "- Integer (int) - Positive/negative whole number: -4\n",
    "- Float (float) - Decimal number: 1.4221\n",
    "- List (list) - A list of items: [1, 2, 3, \"hi\"]\n",
    "- Tuple (typle) - An unmodifiable list of items: (1, 2, 3, \"hi\")\n",
    "- Set (set) - A list of unrepeatable items: (1, 2, 3)\n",
    "- Boolean (bool) - True/False\n",
    "- Dictionary (dict) - A key-value pair: {0: \"Bad\", 1: \"Okay\", 2: \"Fair\", 3: \"Good\"}"
   ]
  },
  {
   "cell_type": "markdown",
   "id": "1efc653f",
   "metadata": {},
   "source": [
    "### Variables"
   ]
  },
  {
   "cell_type": "markdown",
   "id": "c6e7b5c8",
   "metadata": {},
   "source": [
    "You have probably heard of variables before. They refer to other information. For example, in y=mx+b, x is a variable that refers to a number. In that sense, y is also a variable. And so is m and b in this case.\n",
    "\n",
    "Variables help store data types. For example, I can have a variable named name that stores a String value of someone's name"
   ]
  },
  {
   "cell_type": "code",
   "execution_count": 11,
   "id": "70125fc4",
   "metadata": {},
   "outputs": [
    {
     "name": "stdout",
     "output_type": "stream",
     "text": [
      "John\n"
     ]
    }
   ],
   "source": [
    "name = \"John\"\n",
    "print(name)"
   ]
  },
  {
   "cell_type": "markdown",
   "id": "25693a0b",
   "metadata": {},
   "source": [
    "### Input"
   ]
  },
  {
   "cell_type": "markdown",
   "id": "159fb306",
   "metadata": {},
   "source": [
    "To get input from the user, we must use the in-built function input()\n",
    "\n",
    "We can prompt the user to enter a piece of information, and we can then store the information and print it out to them."
   ]
  },
  {
   "cell_type": "code",
   "execution_count": 12,
   "id": "fd37d6c3",
   "metadata": {},
   "outputs": [
    {
     "name": "stdout",
     "output_type": "stream",
     "text": [
      "What is your name: John\n",
      "Your name is John\n"
     ]
    }
   ],
   "source": [
    "name = input(\"What is your name: \")\n",
    "print(\"Your name is \" + name)"
   ]
  },
  {
   "cell_type": "markdown",
   "id": "855bc3c3",
   "metadata": {},
   "source": [
    "### Decisions"
   ]
  },
  {
   "cell_type": "markdown",
   "id": "39b48be9",
   "metadata": {},
   "source": [
    "To make decisions, we use if-else statements. These statements take boolean values, so it is important to know what they are.\n",
    "\n",
    "They are True/False values. To creaet these value, we use operators.\n",
    "\n",
    "- == : Equal to\n",
    "- \\> : Greater than\n",
    "- \\< : Less than\n",
    "- \\>= : Greater than or equal to\n",
    "- <= : Less than or equal to\n",
    "- != : Not equal to\n",
    "\n",
    "and : Placed between two boolean statements. Returns true if both are true, else false\n",
    "or : Placed between two boolean statements. Returns true if either one or both are true, else false\n",
    "\n",
    "You can also place else or elif (else if) after the first if statement. However, this is optional. Note that if the if statement is true, then the else statement will not run. The syntax is as follows."
   ]
  },
  {
   "cell_type": "markdown",
   "id": "e76f2f49",
   "metadata": {},
   "source": [
    "x = 1\n",
    "y = 6\n",
    "\n",
    "if x == 1:\n",
    "    print(\"x is 1\")\n",
    "elif x != 6 or y == x:\n",
    "    print(\"Cheeseburger\")\n",
    "else:\n",
    "    print(\"CS Club rocks\")\n",
    "    \n",
    "if y >= 4:\n",
    "    print(\"y is High\")"
   ]
  },
  {
   "cell_type": "markdown",
   "id": "ebdde3b6",
   "metadata": {},
   "source": [
    "### Loops"
   ]
  },
  {
   "cell_type": "markdown",
   "id": "9b71926e",
   "metadata": {},
   "source": [
    "There are two types of loops in Python: while loops and for loops.\n",
    "\n",
    "While loops repeat as long as the condition set is true."
   ]
  },
  {
   "cell_type": "code",
   "execution_count": 13,
   "id": "3d103cfa",
   "metadata": {},
   "outputs": [
    {
     "name": "stdout",
     "output_type": "stream",
     "text": [
      "10\n",
      "9\n",
      "8\n",
      "7\n",
      "6\n",
      "5\n",
      "4\n",
      "3\n",
      "2\n",
      "1\n"
     ]
    }
   ],
   "source": [
    "x = 10\n",
    "\n",
    "while x > 0:\n",
    "    print(x)\n",
    "    x = x - 1"
   ]
  },
  {
   "cell_type": "markdown",
   "id": "e186d7c9",
   "metadata": {},
   "source": [
    "The other type is a for loop. A for loop repeats for a set number of times. We use the range() function to tell the program how many times to repeat"
   ]
  },
  {
   "cell_type": "code",
   "execution_count": 14,
   "id": "733da664",
   "metadata": {},
   "outputs": [
    {
     "name": "stdout",
     "output_type": "stream",
     "text": [
      "0\n",
      "1\n",
      "2\n",
      "3\n",
      "4\n",
      "5\n",
      "6\n",
      "7\n",
      "8\n",
      "9\n"
     ]
    }
   ],
   "source": [
    "for x in range(0, 10):\n",
    "    print(x)"
   ]
  },
  {
   "cell_type": "markdown",
   "id": "ae99267e",
   "metadata": {},
   "source": [
    "### Dictionary"
   ]
  },
  {
   "cell_type": "markdown",
   "id": "13b14f21",
   "metadata": {},
   "source": [
    "A dictionary is a key-value pair. You can access an item based on a key. For example, I can use ratings to correspond to words. Accessing elements is very fast!"
   ]
  },
  {
   "cell_type": "code",
   "execution_count": 15,
   "id": "f51ed3f3",
   "metadata": {},
   "outputs": [
    {
     "name": "stdout",
     "output_type": "stream",
     "text": [
      "bad\n"
     ]
    }
   ],
   "source": [
    "ratings = {1: \"bad\", 2: \"okay\", 3: \"fair\", 4: \"good\", 5: \"excellent\"}\n",
    "\n",
    "print(ratings[1])"
   ]
  },
  {
   "cell_type": "markdown",
   "id": "49e742ed",
   "metadata": {},
   "source": [
    "### List/Tuples"
   ]
  },
  {
   "cell_type": "markdown",
   "id": "88dc7b0a",
   "metadata": {},
   "source": [
    "Lists and tuples are similar structures. They both store information. However, a tuple is immutable, which means it can not be changed/written to. Lists are mutable and can be both read and written from.\n",
    "\n",
    "Take a look at this to see some of the functions associated with lists:\n",
    "https://docs.python.org/3/tutorial/datastructures.html"
   ]
  },
  {
   "cell_type": "code",
   "execution_count": 16,
   "id": "53af8013",
   "metadata": {},
   "outputs": [
    {
     "name": "stdout",
     "output_type": "stream",
     "text": [
      "list: [1, 2, 3, 4, 5]\n",
      "tuple: (1, 2, 3, 4, 5)\n",
      "\n",
      "list: [1, 2, 3, 4, 5, 6]\n",
      "tuple: (1, 2, 3, 4, 5)\n"
     ]
    }
   ],
   "source": [
    "nums1 = [1, 2, 3, 4, 5]\n",
    "nums2 = (1, 2, 3, 4, 5)\n",
    "\n",
    "print(\"list:\", nums1)\n",
    "print(\"tuple:\", nums2)\n",
    "\n",
    "nums1.append(6)\n",
    "# nums2.append(6) <---- This is an error\n",
    "\n",
    "print(\"\\nlist:\", nums1)\n",
    "print(\"tuple:\", nums2) "
   ]
  }
 ],
 "metadata": {
  "kernelspec": {
   "display_name": "Python 3 (ipykernel)",
   "language": "python",
   "name": "python3"
  },
  "language_info": {
   "codemirror_mode": {
    "name": "ipython",
    "version": 3
   },
   "file_extension": ".py",
   "mimetype": "text/x-python",
   "name": "python",
   "nbconvert_exporter": "python",
   "pygments_lexer": "ipython3",
   "version": "3.11.4"
  }
 },
 "nbformat": 4,
 "nbformat_minor": 5
}
