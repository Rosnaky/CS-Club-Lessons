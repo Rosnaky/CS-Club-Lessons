{
 "cells": [
  {
   "cell_type": "markdown",
   "id": "c069cbfe",
   "metadata": {},
   "source": [
    "# Introduction To Big O"
   ]
  },
  {
   "cell_type": "markdown",
   "id": "d3f3ad1f",
   "metadata": {},
   "source": [
    "Big O is a notation used to describe the computational complexity of an algorithm. The computational complexity of an algorithm is split into two parts: time complexity and space complexity. \n",
    "- The time complexity of an algorithm is the amount of time the algorithm needs to run relative to the input size.\n",
    "- The space complexity of an algorithm is the amount of memory allocated by the algorithm when run relative to the input size.\n",
    "\n",
    "Typically, people care about the time complexity more than the space complexity, but both are important to know."
   ]
  },
  {
   "cell_type": "markdown",
   "id": "91f11970",
   "metadata": {},
   "source": [
    "### How complexity works"
   ]
  },
  {
   "cell_type": "markdown",
   "id": "6e6a95f8",
   "metadata": {},
   "source": [
    "The arguments are defined by the programmer, but they should cover all relevant variables that would change when the input changes. The most common variable you'll see is n, which usually denotes the length of an input array or string.\n",
    "\n",
    "When written, the function is wrapped by a capital O. Here are some example complexities:\n",
    "- O(n)\n",
    "- O(n^2)\n",
    "- O(2^n)\n",
    "- O(log n)\n",
    "- O(n * m)"
   ]
  },
  {
   "cell_type": "markdown",
   "id": "2cd530d7",
   "metadata": {},
   "source": [
    "### Analyzing space and time complexity"
   ]
  },
  {
   "cell_type": "code",
   "execution_count": 1,
   "id": "103d126c",
   "metadata": {},
   "outputs": [
    {
     "name": "stdout",
     "output_type": "stream",
     "text": [
      "1\n",
      "2\n",
      "3\n",
      "4\n",
      "5\n"
     ]
    }
   ],
   "source": [
    "# Given an integer array \"arr\" with length n,\n",
    "\n",
    "arr = [1, 2, 3, 4, 5]\n",
    "\n",
    "for num in arr:\n",
    "    print(num)"
   ]
  },
  {
   "cell_type": "markdown",
   "id": "e5f55660",
   "metadata": {},
   "source": [
    "This algorithm has a time complexity of O(n). In each for loop iteration, we are performing a print, which costs O(1). The for loop iterates n times, which gives a time complexity of O(1*n) = O(n).\n",
    "\n",
    "The space complexity is simple. Since there are n integers stored in the array, the space complexity is O(n)."
   ]
  },
  {
   "cell_type": "code",
   "execution_count": 4,
   "id": "bd29c68c",
   "metadata": {},
   "outputs": [
    {
     "name": "stdout",
     "output_type": "stream",
     "text": [
      "1\n",
      "2\n",
      "3\n",
      "4\n",
      "5\n",
      "2\n",
      "4\n",
      "6\n",
      "8\n",
      "10\n",
      "3\n",
      "6\n",
      "9\n",
      "12\n",
      "15\n",
      "4\n",
      "8\n",
      "12\n",
      "16\n",
      "20\n",
      "5\n",
      "10\n",
      "15\n",
      "20\n",
      "25\n"
     ]
    }
   ],
   "source": [
    "# Given an integer array \"arr\" with length n,\n",
    "\n",
    "arr = [1, 2, 3, 4, 5]\n",
    "\n",
    "for num in arr:\n",
    "    for num2 in arr:\n",
    "        print(num * num2)"
   ]
  },
  {
   "cell_type": "markdown",
   "id": "37fc3c03",
   "metadata": {},
   "source": [
    "This algorithm has a time complexity of O(n^2). In each inner for loop iteration, we are performing a multiplication and print, which both cost O(1). The inner for loop runs n times, which means each outer for loop iteration costs O(n). The outer for loop runs O(n) times, which gives a time complexity of O(n⋅n) = O(n^2).\n",
    "\n",
    "The space is still O(n) as the array is 1D."
   ]
  },
  {
   "cell_type": "code",
   "execution_count": 6,
   "id": "b6818a76",
   "metadata": {},
   "outputs": [
    {
     "name": "stdout",
     "output_type": "stream",
     "text": [
      "1\n",
      "2\n",
      "3\n",
      "4\n",
      "5\n",
      "6\n",
      "7\n",
      "8\n",
      "9\n",
      "10\n",
      "11\n",
      "12\n"
     ]
    }
   ],
   "source": [
    "# Given a matrix of n rows and m cols\n",
    "\n",
    "arr = [\n",
    "    [1, 2, 3],\n",
    "    [4, 5, 6],\n",
    "    [7, 8, 9],\n",
    "    [10, 11, 12]\n",
    "]\n",
    "\n",
    "for row in arr:\n",
    "    for num in row:\n",
    "        print(num)"
   ]
  },
  {
   "cell_type": "markdown",
   "id": "c4a694fb",
   "metadata": {},
   "source": [
    "This algorithm prints each number from a matrix of n rows and m cols. The time complexity is therefore O(n * m).\n",
    "\n",
    "This also means the space complexity is O(n * m)."
   ]
  },
  {
   "cell_type": "markdown",
   "id": "d1a7d7c7",
   "metadata": {},
   "source": [
    "### Exercises"
   ]
  },
  {
   "cell_type": "markdown",
   "id": "13335d9f",
   "metadata": {},
   "source": [
    "Great job! Now, with those examples, try doing some of these problems on your own time. The answers are at the bottom!"
   ]
  },
  {
   "cell_type": "markdown",
   "id": "28a11b76",
   "metadata": {},
   "source": [
    "https://kodr.me/en/big-o-exercises#1"
   ]
  }
 ],
 "metadata": {
  "kernelspec": {
   "display_name": "Python 3 (ipykernel)",
   "language": "python",
   "name": "python3"
  },
  "language_info": {
   "codemirror_mode": {
    "name": "ipython",
    "version": 3
   },
   "file_extension": ".py",
   "mimetype": "text/x-python",
   "name": "python",
   "nbconvert_exporter": "python",
   "pygments_lexer": "ipython3",
   "version": "3.11.4"
  }
 },
 "nbformat": 4,
 "nbformat_minor": 5
}
