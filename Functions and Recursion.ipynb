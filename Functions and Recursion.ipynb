{
 "cells": [
  {
   "cell_type": "markdown",
   "id": "f6e808d8",
   "metadata": {},
   "source": [
    "# Working With Functions"
   ]
  },
  {
   "cell_type": "markdown",
   "id": "d53d6828",
   "metadata": {},
   "source": [
    "Functions are one of the most important elements of programming in Python and in many other languages! Functions are used everywhere from printing something (yes print() is a function), to creating a machine learning model. Today, we will learn how to create functions and also how it ties in with competitive programming."
   ]
  },
  {
   "cell_type": "markdown",
   "id": "a6c5b9a5",
   "metadata": {},
   "source": [
    "Functions are a predefined block of code that can be executing by calling it in a single line. Functions can take in parameters and can return values. However, parameters and return statements are optional, but are frequently used."
   ]
  },
  {
   "cell_type": "markdown",
   "id": "bd9e7350",
   "metadata": {},
   "source": [
    "### Creating a function"
   ]
  },
  {
   "cell_type": "markdown",
   "id": "aefa8541",
   "metadata": {},
   "source": [
    "To create a function, we use the \"def\" keyword. We then declare the function name with a pair of parentheses following it. Underneath the function, whatever is indented will be that part of the function. When the function is called, that block of code will run. Functions are a lot like variables except that instead of storing a value, they store blocks of code."
   ]
  },
  {
   "cell_type": "code",
   "execution_count": 1,
   "id": "4b26b578",
   "metadata": {},
   "outputs": [
    {
     "name": "stdout",
     "output_type": "stream",
     "text": [
      "hello world!\n"
     ]
    }
   ],
   "source": [
    "def hello():\n",
    "    print(\"hello world!\")\n",
    "\n",
    "hello()"
   ]
  },
  {
   "cell_type": "markdown",
   "id": "ee3ccdf0",
   "metadata": {},
   "source": [
    "We can also add parameters. Let's say we want to prompt a user with a message and then print the user input. The prompt will be a parameter passed when we call the function."
   ]
  },
  {
   "cell_type": "code",
   "execution_count": 5,
   "id": "3ca2fb10",
   "metadata": {},
   "outputs": [
    {
     "name": "stdout",
     "output_type": "stream",
     "text": [
      "Enter a message: Liam is a nerd\n",
      "I agree that Liam is a nerd\n"
     ]
    }
   ],
   "source": [
    "def prompt(message):\n",
    "    userInput = input(message);\n",
    "    print(\"I agree that \" + userInput)\n",
    "    \n",
    "prompt(\"Enter a message: \")"
   ]
  },
  {
   "cell_type": "markdown",
   "id": "f3b71df1",
   "metadata": {},
   "source": [
    "Lastly, functions can return values. Most of the time, you want to process some kind of input and store the output. Python is very lenient as it allows us to return any value we want. We can return an integer, float, boolean, or even an object. Let's test it out to check if a number is even or odd."
   ]
  },
  {
   "cell_type": "code",
   "execution_count": 7,
   "id": "6f4a4e79",
   "metadata": {},
   "outputs": [
    {
     "name": "stdout",
     "output_type": "stream",
     "text": [
      "2 is even\n"
     ]
    }
   ],
   "source": [
    "def evenOrOdd(num):\n",
    "    if num%2 == 0: # modulo operator. Gets the remainder. Eg. 5%2 = 1 since 5/2 = 2 remainder 1.\n",
    "        return \"even\"\n",
    "    else:\n",
    "        return \"odd\"\n",
    "\n",
    "x = 2\n",
    "ans = evenOrOdd(x)\n",
    "\n",
    "print(str(x) + \" is \" + ans) # str(x) converts x into a string"
   ]
  },
  {
   "cell_type": "markdown",
   "id": "d779d122",
   "metadata": {},
   "source": [
    "Functions are powerful because code can be repeated so easily. If I wanted to check if another integer is even or odd, I just need to call the evenOrOdd() function again."
   ]
  },
  {
   "cell_type": "markdown",
   "id": "079cab02",
   "metadata": {},
   "source": [
    "###### Try creating your own function with 3 parameters and a return type!"
   ]
  },
  {
   "cell_type": "markdown",
   "id": "9daee86c",
   "metadata": {},
   "source": [
    "## Recursion"
   ]
  },
  {
   "cell_type": "markdown",
   "id": "c36e1bd5",
   "metadata": {},
   "source": [
    "One of the coolest part about functions is that you can call the same function, inside the function! This is called recursion, and it can be very helpful in some algorithms such as dynamic programming (which we will get to eventually). Let's try a quick exercise where we print all numbers from 0 to x where x is the initial input."
   ]
  },
  {
   "cell_type": "code",
   "execution_count": 9,
   "id": "2e74a00e",
   "metadata": {},
   "outputs": [
    {
     "name": "stdout",
     "output_type": "stream",
     "text": [
      "0\n",
      "1\n",
      "2\n",
      "3\n",
      "4\n",
      "5\n",
      "6\n",
      "7\n",
      "8\n",
      "9\n"
     ]
    },
    {
     "data": {
      "text/plain": [
       "10"
      ]
     },
     "execution_count": 9,
     "metadata": {},
     "output_type": "execute_result"
    }
   ],
   "source": [
    "def zeroToX(x):\n",
    "    if x == 0:\n",
    "        return 0\n",
    "    \n",
    "    print(zeroToX(x-1))\n",
    "    return x\n",
    "\n",
    "zeroToX(10)"
   ]
  },
  {
   "cell_type": "markdown",
   "id": "29e71aa6",
   "metadata": {},
   "source": [
    "Let's dissect this. We have our function zeroToX which takes parameter x. We now have our base case. It is very important to have a base case, otherwise, the program will never end and it will eventually crash. Our base case is if x is 0. Then, we know we reached zero and need to stop the program. If we are not at zero, but rather at 10, we will skip that if statement and print the value of zeroToX(x-1). This repeats until we get the base case. Once x == 0, then we return 0. Then, once that is printed, we return the original number. After 0, it will be 1. Once that is printed, then 2 is printed, all the way to 10."
   ]
  },
  {
   "cell_type": "markdown",
   "id": "3892d04f",
   "metadata": {},
   "source": [
    "We realize that this may be confusing, however, to help you, try following the code and see what the input is when you originally pass 3, or 5. This will help you understand it a bit more."
   ]
  },
  {
   "cell_type": "markdown",
   "id": "05645e28",
   "metadata": {},
   "source": [
    "#### Challenge!"
   ]
  },
  {
   "cell_type": "markdown",
   "id": "1dcf2766",
   "metadata": {},
   "source": [
    "###### Print all powers of 2 upto n recursively where n is the input to the function and is a power of 2"
   ]
  },
  {
   "cell_type": "markdown",
   "id": "616bf892",
   "metadata": {},
   "source": [
    "Here is a recursive solution (please only check if you've tried your best!): "
   ]
  }
 ],
 "metadata": {
  "kernelspec": {
   "display_name": "Python 3 (ipykernel)",
   "language": "python",
   "name": "python3"
  },
  "language_info": {
   "codemirror_mode": {
    "name": "ipython",
    "version": 3
   },
   "file_extension": ".py",
   "mimetype": "text/x-python",
   "name": "python",
   "nbconvert_exporter": "python",
   "pygments_lexer": "ipython3",
   "version": "3.11.4"
  }
 },
 "nbformat": 4,
 "nbformat_minor": 5
}
